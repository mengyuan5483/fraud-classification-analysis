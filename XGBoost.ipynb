{
 "cells": [
  {
   "cell_type": "markdown",
   "id": "bb24f94d-c0ee-46d1-b3d9-3cdae2dbc25c",
   "metadata": {},
   "source": [
    "XGBoost"
   ]
  },
  {
   "cell_type": "code",
   "execution_count": 1,
   "id": "72d7f0d1-0e74-4a8b-9cc9-a1bd34738e98",
   "metadata": {},
   "outputs": [
    {
     "name": "stdout",
     "output_type": "stream",
     "text": [
      "Defaulting to user installation because normal site-packages is not writeable\n",
      "Collecting xgboost\n",
      "  Downloading xgboost-2.1.4-py3-none-macosx_12_0_arm64.whl.metadata (2.1 kB)\n",
      "Collecting imbalanced-learn\n",
      "  Downloading imbalanced_learn-0.12.4-py3-none-any.whl.metadata (8.3 kB)\n",
      "Requirement already satisfied: numpy in /Users/tracycui/Library/Python/3.9/lib/python/site-packages (from xgboost) (2.0.2)\n",
      "Requirement already satisfied: scipy in /Users/tracycui/Library/Python/3.9/lib/python/site-packages (from xgboost) (1.13.1)\n",
      "Requirement already satisfied: scikit-learn>=1.0.2 in /Users/tracycui/Library/Python/3.9/lib/python/site-packages (from imbalanced-learn) (1.6.1)\n",
      "Requirement already satisfied: joblib>=1.1.1 in /Users/tracycui/Library/Python/3.9/lib/python/site-packages (from imbalanced-learn) (1.4.2)\n",
      "Requirement already satisfied: threadpoolctl>=2.0.0 in /Users/tracycui/Library/Python/3.9/lib/python/site-packages (from imbalanced-learn) (3.5.0)\n",
      "Downloading xgboost-2.1.4-py3-none-macosx_12_0_arm64.whl (1.9 MB)\n",
      "\u001b[2K   \u001b[90m━━━━━━━━━━━━━━━━━━━━━━━━━━━━━━━━━━━━━━━━\u001b[0m \u001b[32m1.9/1.9 MB\u001b[0m \u001b[31m1.9 MB/s\u001b[0m eta \u001b[36m0:00:00\u001b[0ma \u001b[36m0:00:01\u001b[0m\n",
      "\u001b[?25hDownloading imbalanced_learn-0.12.4-py3-none-any.whl (258 kB)\n",
      "Installing collected packages: xgboost, imbalanced-learn\n",
      "Successfully installed imbalanced-learn-0.12.4 xgboost-2.1.4\n",
      "\n",
      "\u001b[1m[\u001b[0m\u001b[34;49mnotice\u001b[0m\u001b[1;39;49m]\u001b[0m\u001b[39;49m A new release of pip is available: \u001b[0m\u001b[31;49m24.3.1\u001b[0m\u001b[39;49m -> \u001b[0m\u001b[32;49m25.0.1\u001b[0m\n",
      "\u001b[1m[\u001b[0m\u001b[34;49mnotice\u001b[0m\u001b[1;39;49m]\u001b[0m\u001b[39;49m To update, run: \u001b[0m\u001b[32;49m/Library/Developer/CommandLineTools/usr/bin/python3 -m pip install --upgrade pip\u001b[0m\n",
      "Note: you may need to restart the kernel to use updated packages.\n"
     ]
    }
   ],
   "source": [
    "pip install xgboost imbalanced-learn"
   ]
  },
  {
   "cell_type": "code",
   "execution_count": 3,
   "id": "7437e5d0-03a8-468d-92ea-d0f99603463f",
   "metadata": {},
   "outputs": [],
   "source": [
    "import pandas as pd\n",
    "import numpy as np"
   ]
  },
  {
   "cell_type": "code",
   "execution_count": 4,
   "id": "8228872b-ee85-494f-892f-0046983f7446",
   "metadata": {},
   "outputs": [],
   "source": [
    "data=pd.read_csv('Base.csv')"
   ]
  },
  {
   "cell_type": "code",
   "execution_count": 11,
   "id": "f946007e-a591-41e7-99c4-e8537541b79c",
   "metadata": {},
   "outputs": [],
   "source": [
    "from sklearn.model_selection import train_test_split\n",
    "from sklearn.pipeline import Pipeline\n",
    "from sklearn.compose import ColumnTransformer\n",
    "from sklearn.preprocessing import StandardScaler, OneHotEncoder\n",
    "from sklearn.impute import SimpleImputer\n",
    "from sklearn.metrics import classification_report\n",
    "from xgboost import XGBClassifier\n",
    "from imblearn.pipeline import Pipeline as ImbPipeline\n",
    "from imblearn.over_sampling import SMOTE"
   ]
  },
  {
   "cell_type": "code",
   "execution_count": 12,
   "id": "16461d5c-d09d-49f9-aedb-56b008669966",
   "metadata": {},
   "outputs": [],
   "source": [
    "# Step 1: Clean data\n",
    "data = data.replace(-1, np.nan)  # replace -1 as missing\n",
    "data['fraud_bool'] = data['fraud_bool'].astype(int)"
   ]
  },
  {
   "cell_type": "code",
   "execution_count": 13,
   "id": "eff7e258-d792-4f2e-9603-e48fa9661e2c",
   "metadata": {},
   "outputs": [],
   "source": [
    "# Step 2: Define target and features\n",
    "Y = data['fraud_bool']\n",
    "X = data.drop(columns=['fraud_bool'])"
   ]
  },
  {
   "cell_type": "code",
   "execution_count": 14,
   "id": "8dcd6e30-0dcb-42f4-bfd9-80ba8ecfa244",
   "metadata": {},
   "outputs": [],
   "source": [
    "# Step 3: Identify column types\n",
    "numeric_features = X.select_dtypes(include=['int64', 'float64']).columns.tolist()\n",
    "categorical_features = X.select_dtypes(include=['object']).columns.tolist()"
   ]
  },
  {
   "cell_type": "code",
   "execution_count": 15,
   "id": "3ff81695-404b-4823-946f-c742c5807eb8",
   "metadata": {},
   "outputs": [],
   "source": [
    "# Step 4: Define transformers\n",
    "numeric_transformer = Pipeline(steps=[\n",
    "    ('imputer', SimpleImputer(strategy='mean')),\n",
    "    ('scaler', StandardScaler())\n",
    "])\n",
    "\n",
    "categorical_transformer = Pipeline(steps=[\n",
    "    ('imputer', SimpleImputer(strategy='most_frequent')),\n",
    "    ('encoder', OneHotEncoder(handle_unknown='ignore'))\n",
    "])"
   ]
  },
  {
   "cell_type": "code",
   "execution_count": 16,
   "id": "ec5f243a-75e4-4838-81ec-e038d1a8a7a7",
   "metadata": {},
   "outputs": [],
   "source": [
    "# Step 5: Column Transformer\n",
    "preprocessor = ColumnTransformer(transformers=[\n",
    "    ('num', numeric_transformer, numeric_features),\n",
    "    ('cat', categorical_transformer, categorical_features)\n",
    "])"
   ]
  },
  {
   "cell_type": "code",
   "execution_count": 10,
   "id": "42d68e87-2354-40b6-9a0d-9db9534178dd",
   "metadata": {},
   "outputs": [
    {
     "name": "stdout",
     "output_type": "stream",
     "text": [
      "Class 0: 988971, Class 1: 11029, scale_pos_weight: 89.67\n"
     ]
    },
    {
     "name": "stderr",
     "output_type": "stream",
     "text": [
      "/Users/tracycui/Library/Python/3.9/lib/python/site-packages/xgboost/core.py:158: UserWarning: [14:43:47] WARNING: /Users/runner/work/xgboost/xgboost/src/learner.cc:740: \n",
      "Parameters: { \"use_label_encoder\" } are not used.\n",
      "\n",
      "  warnings.warn(smsg, UserWarning)\n"
     ]
    },
    {
     "name": "stdout",
     "output_type": "stream",
     "text": [
      "              precision    recall  f1-score   support\n",
      "\n",
      "           0       1.00      0.88      0.93    197891\n",
      "           1       0.06      0.70      0.11      2109\n",
      "\n",
      "    accuracy                           0.88    200000\n",
      "   macro avg       0.53      0.79      0.52    200000\n",
      "weighted avg       0.99      0.88      0.93    200000\n",
      "\n"
     ]
    }
   ],
   "source": [
    "# ✅ Calculate scale_pos_weight for class imbalanceThe first part calculates the scale_pos_weight to address the class imbalance \n",
    "#(fraud is much less frequent than non-fraud). The second part sets up the model pipeline, \n",
    "#which includes preprocessing and training the model in one step. This ensures the model can better detect fraud despite the class imbalance.\n",
    "# scale_pos_weight = (number of negative samples / number of positive samples)\n",
    "neg, pos = np.bincount(Y)\n",
    "scale_pos_weight = neg / pos\n",
    "print(f\"Class 0: {neg}, Class 1: {pos}, scale_pos_weight: {scale_pos_weight:.2f}\")\n",
    "\n",
    "# Build model pipeline\n",
    "clf = Pipeline(steps=[\n",
    "    ('preprocessor', preprocessor),\n",
    "    ('classifier', XGBClassifier(\n",
    "        use_label_encoder=False,\n",
    "        eval_metric='logloss',\n",
    "        scale_pos_weight=scale_pos_weight,\n",
    "        random_state=42\n",
    "    ))\n",
    "])\n",
    "\n",
    "# Train/test split\n",
    "X_train, X_test, y_train, y_test = train_test_split(X, Y, test_size=0.2, random_state=42)\n",
    "\n",
    "# Train\n",
    "clf.fit(X_train, y_train)\n",
    "\n",
    "# Predict & report\n",
    "y_pred = clf.predict(X_test)\n",
    "print(classification_report(y_test, y_pred))"
   ]
  },
  {
   "cell_type": "code",
   "execution_count": null,
   "id": "98fc7a32-466f-4598-9d2b-e0ff9b0d60a8",
   "metadata": {},
   "outputs": [],
   "source": []
  }
 ],
 "metadata": {
  "kernelspec": {
   "display_name": "Python 3 (ipykernel)",
   "language": "python",
   "name": "python3"
  },
  "language_info": {
   "codemirror_mode": {
    "name": "ipython",
    "version": 3
   },
   "file_extension": ".py",
   "mimetype": "text/x-python",
   "name": "python",
   "nbconvert_exporter": "python",
   "pygments_lexer": "ipython3",
   "version": "3.9.6"
  }
 },
 "nbformat": 4,
 "nbformat_minor": 5
}
