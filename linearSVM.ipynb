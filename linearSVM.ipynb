{
 "cells": [
  {
   "cell_type": "markdown",
   "id": "2f08d66b-3810-4e81-90ac-483a3c2f97a8",
   "metadata": {},
   "source": [
    "Bank Account Fraud Dataset Suite (NeurIPS 2022)-linear SVM"
   ]
  },
  {
   "cell_type": "code",
   "execution_count": 1,
   "id": "4fb6651e-6ab2-4a2d-8d27-182206c4c8a6",
   "metadata": {},
   "outputs": [],
   "source": [
    "import numpy as np\n",
    "import pandas as pd"
   ]
  },
  {
   "cell_type": "code",
   "execution_count": 2,
   "id": "55543335-7810-45d3-a715-359325ab8f2f",
   "metadata": {},
   "outputs": [],
   "source": [
    "data=pd.read_csv('Base.csv')"
   ]
  },
  {
   "cell_type": "code",
   "execution_count": 3,
   "id": "35bde41f-ae70-4bde-85f9-2908f4698fbb",
   "metadata": {},
   "outputs": [
    {
     "name": "stdout",
     "output_type": "stream",
     "text": [
      "   fraud_bool  income  name_email_similarity  prev_address_months_count  \\\n",
      "0           0     0.3               0.986506                         -1   \n",
      "1           0     0.8               0.617426                         -1   \n",
      "2           0     0.8               0.996707                          9   \n",
      "3           0     0.6               0.475100                         11   \n",
      "4           0     0.9               0.842307                         -1   \n",
      "\n",
      "   current_address_months_count  customer_age  days_since_request  \\\n",
      "0                            25            40            0.006735   \n",
      "1                            89            20            0.010095   \n",
      "2                            14            40            0.012316   \n",
      "3                            14            30            0.006991   \n",
      "4                            29            40            5.742626   \n",
      "\n",
      "   intended_balcon_amount payment_type  zip_count_4w  ...  has_other_cards  \\\n",
      "0              102.453711           AA          1059  ...                0   \n",
      "1               -0.849551           AD          1658  ...                0   \n",
      "2               -1.490386           AB          1095  ...                0   \n",
      "3               -1.863101           AB          3483  ...                0   \n",
      "4               47.152498           AA          2339  ...                0   \n",
      "\n",
      "   proposed_credit_limit  foreign_request    source  \\\n",
      "0                 1500.0                0  INTERNET   \n",
      "1                 1500.0                0  INTERNET   \n",
      "2                  200.0                0  INTERNET   \n",
      "3                  200.0                0  INTERNET   \n",
      "4                  200.0                0  INTERNET   \n",
      "\n",
      "   session_length_in_minutes device_os  keep_alive_session  \\\n",
      "0                  16.224843     linux                   1   \n",
      "1                   3.363854     other                   1   \n",
      "2                  22.730559   windows                   0   \n",
      "3                  15.215816     linux                   1   \n",
      "4                   3.743048     other                   0   \n",
      "\n",
      "   device_distinct_emails_8w device_fraud_count  month  \n",
      "0                          1                  0      0  \n",
      "1                          1                  0      0  \n",
      "2                          1                  0      0  \n",
      "3                          1                  0      0  \n",
      "4                          1                  0      0  \n",
      "\n",
      "[5 rows x 32 columns]\n"
     ]
    }
   ],
   "source": [
    "print(data.head(5))"
   ]
  },
  {
   "cell_type": "code",
   "execution_count": 4,
   "id": "d1afb0f1-f779-4345-8a95-90408f088fff",
   "metadata": {},
   "outputs": [],
   "source": [
    "from sklearn.model_selection import train_test_split\n",
    "from sklearn.linear_model import LogisticRegression"
   ]
  },
  {
   "cell_type": "code",
   "execution_count": 5,
   "id": "a1d834e8-c78f-46a5-a6cf-efaed6308565",
   "metadata": {},
   "outputs": [],
   "source": [
    "#replace -1 and pd.NA = np.nan # standard the Nan\n",
    "data = data.replace(-1, np.nan)\n",
    "data = data.astype(object).where(pd.notna(data), np.nan)  "
   ]
  },
  {
   "cell_type": "code",
   "execution_count": 6,
   "id": "f4e316e9-80e4-4671-aad8-ea4b0dc52679",
   "metadata": {},
   "outputs": [],
   "source": [
    "Y = data['fraud_bool']  \n",
    "X = data.drop(columns=['fraud_bool'])"
   ]
  },
  {
   "cell_type": "code",
   "execution_count": 7,
   "id": "bcd273c5-5599-49bc-9abe-18ee7b2b31da",
   "metadata": {},
   "outputs": [
    {
     "data": {
      "text/plain": [
       "fraud_bool\n",
       "0    988971\n",
       "1     11029\n",
       "Name: count, dtype: int64"
      ]
     },
     "execution_count": 7,
     "metadata": {},
     "output_type": "execute_result"
    }
   ],
   "source": [
    "data['fraud_bool'].value_counts()"
   ]
  },
  {
   "cell_type": "code",
   "execution_count": 8,
   "id": "1ea8f411-d340-46f2-86d0-f632886b1d3e",
   "metadata": {},
   "outputs": [],
   "source": [
    "Y = data['fraud_bool'].astype(int)# int "
   ]
  },
  {
   "cell_type": "code",
   "execution_count": 9,
   "id": "50461342-b9e7-4a0e-a79d-5f0413a7306d",
   "metadata": {},
   "outputs": [],
   "source": [
    "# a lot of columns, pipeline+one hot"
   ]
  },
  {
   "cell_type": "code",
   "execution_count": 10,
   "id": "028af0f9-e5d6-4348-bd0e-b80a3bc4f7af",
   "metadata": {},
   "outputs": [],
   "source": [
    "from sklearn.pipeline import Pipeline\n",
    "from sklearn.compose import ColumnTransformer\n",
    "from sklearn.preprocessing import StandardScaler, OneHotEncoder\n",
    "from sklearn.impute import SimpleImputer\n",
    "from sklearn.svm import LinearSVC\n",
    "from sklearn.metrics import classification_report"
   ]
  },
  {
   "cell_type": "code",
   "execution_count": 11,
   "id": "f54889dd-ce1b-47d2-b71b-750b70deb1ba",
   "metadata": {},
   "outputs": [],
   "source": [
    "#automatically identify numerical and categorical columns.\n",
    "numeric_features = X.select_dtypes(include=['int64', 'float64']).columns.tolist()\n",
    "categorical_features = X.select_dtypes(include=['object']).columns.tolist()"
   ]
  },
  {
   "cell_type": "code",
   "execution_count": 12,
   "id": "2b351e9e-22b7-4f18-820f-f0af94c6b7ac",
   "metadata": {},
   "outputs": [],
   "source": [
    "#For all numeric columns, first fill in missing values using the mean, then scale them using standardization.\n",
    "numeric_transformer = Pipeline(steps=[\n",
    "    ('imputer', SimpleImputer(strategy='mean')),\n",
    "    ('scaler', StandardScaler())\n",
    "])"
   ]
  },
  {
   "cell_type": "code",
   "execution_count": 13,
   "id": "3f55cff4-ad55-497c-9485-21b87db22963",
   "metadata": {},
   "outputs": [],
   "source": [
    "#For all categorical columns, first fill in missing values with the most frequent category, \n",
    "#then convert the categories to one-hot encoded columns so machine learning models can use them.\n",
    "categorical_transformer = Pipeline(steps=[\n",
    "    ('imputer', SimpleImputer(strategy='most_frequent')),\n",
    "    ('encoder', OneHotEncoder(handle_unknown='ignore'))\n",
    "])"
   ]
  },
  {
   "cell_type": "code",
   "execution_count": 14,
   "id": "8e457bd9-d2b1-495d-93b2-7ee14b2f6d8b",
   "metadata": {},
   "outputs": [],
   "source": [
    "#For the numeric columns, apply this transformation.\n",
    "#For the categorical columns, apply a different transformation.\n",
    "preprocessor = ColumnTransformer(transformers=[\n",
    "    ('num', numeric_transformer, numeric_features),\n",
    "    ('cat', categorical_transformer, categorical_features)\n",
    "])"
   ]
  },
  {
   "cell_type": "code",
   "execution_count": 15,
   "id": "ff7acfc5-c755-476b-ab09-51f9e4bd77e0",
   "metadata": {},
   "outputs": [],
   "source": [
    "#\t1.\tPreprocesses your data.\n",
    "\t#2.\tTrains a Linear SVM classifier on that data.\n",
    "\n",
    "clf = Pipeline(steps=[\n",
    "    ('preprocessor', preprocessor),\n",
    "    ('classifier', LinearSVC(class_weight='balanced', max_iter=10000))\n",
    "])"
   ]
  },
  {
   "cell_type": "code",
   "execution_count": 16,
   "id": "f5ba32c6-5317-4c44-9f86-f3e80e372e69",
   "metadata": {},
   "outputs": [],
   "source": [
    "# Split the data into training and testing sets\n",
    "X_train, X_test, y_train, y_test = train_test_split(X, Y, test_size=0.2, random_state=42)"
   ]
  },
  {
   "cell_type": "code",
   "execution_count": 17,
   "id": "def80f0d-3e35-4dea-9b41-1035a51e6e70",
   "metadata": {},
   "outputs": [],
   "source": [
    "# Ensure 'fraud_bool' is treated as integer values (0 or 1)\n",
    "Y = data['fraud_bool'].astype(int)"
   ]
  },
  {
   "cell_type": "code",
   "execution_count": 18,
   "id": "d7fbfa8a-4406-41ea-94af-d6c423b4c92e",
   "metadata": {},
   "outputs": [
    {
     "name": "stdout",
     "output_type": "stream",
     "text": [
      "fraud_bool\n",
      "0    988971\n",
      "1     11029\n",
      "Name: count, dtype: int64\n"
     ]
    }
   ],
   "source": [
    "print(Y.value_counts())  # Check how many unique values there are"
   ]
  },
  {
   "cell_type": "code",
   "execution_count": 19,
   "id": "a1fc1328-aace-4a1b-8ad3-ee8adef18c9c",
   "metadata": {},
   "outputs": [
    {
     "name": "stdout",
     "output_type": "stream",
     "text": [
      "              precision    recall  f1-score   support\n",
      "\n",
      "           0       0.99      1.00      0.99    197891\n",
      "           1       0.00      0.00      0.00      2109\n",
      "\n",
      "    accuracy                           0.99    200000\n",
      "   macro avg       0.49      0.50      0.50    200000\n",
      "weighted avg       0.98      0.99      0.98    200000\n",
      "\n"
     ]
    },
    {
     "name": "stderr",
     "output_type": "stream",
     "text": [
      "/Users/tracycui/Library/Python/3.9/lib/python/site-packages/sklearn/metrics/_classification.py:1565: UndefinedMetricWarning: Precision is ill-defined and being set to 0.0 in labels with no predicted samples. Use `zero_division` parameter to control this behavior.\n",
      "  _warn_prf(average, modifier, f\"{metric.capitalize()} is\", len(result))\n",
      "/Users/tracycui/Library/Python/3.9/lib/python/site-packages/sklearn/metrics/_classification.py:1565: UndefinedMetricWarning: Precision is ill-defined and being set to 0.0 in labels with no predicted samples. Use `zero_division` parameter to control this behavior.\n",
      "  _warn_prf(average, modifier, f\"{metric.capitalize()} is\", len(result))\n",
      "/Users/tracycui/Library/Python/3.9/lib/python/site-packages/sklearn/metrics/_classification.py:1565: UndefinedMetricWarning: Precision is ill-defined and being set to 0.0 in labels with no predicted samples. Use `zero_division` parameter to control this behavior.\n",
      "  _warn_prf(average, modifier, f\"{metric.capitalize()} is\", len(result))\n"
     ]
    }
   ],
   "source": [
    "X_train, X_test, y_train, y_test = train_test_split(X, Y, test_size=0.2, random_state=42)\n",
    "\n",
    "clf.fit(X_train, y_train)\n",
    "\n",
    "y_pred = clf.predict(X_test)\n",
    "print(classification_report(y_test, y_pred))"
   ]
  },
  {
   "cell_type": "code",
   "execution_count": null,
   "id": "3fb3e7aa-4dd0-4651-b8d3-110d85045350",
   "metadata": {},
   "outputs": [],
   "source": []
  }
 ],
 "metadata": {
  "kernelspec": {
   "display_name": "Python 3 (ipykernel)",
   "language": "python",
   "name": "python3"
  },
  "language_info": {
   "codemirror_mode": {
    "name": "ipython",
    "version": 3
   },
   "file_extension": ".py",
   "mimetype": "text/x-python",
   "name": "python",
   "nbconvert_exporter": "python",
   "pygments_lexer": "ipython3",
   "version": "3.9.6"
  }
 },
 "nbformat": 4,
 "nbformat_minor": 5
}
